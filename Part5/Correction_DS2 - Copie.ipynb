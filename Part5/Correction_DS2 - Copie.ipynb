{
 "cells": [
  {
   "cell_type": "markdown",
   "id": "cc901aaf-7167-45aa-8fad-c839bd6fcc7f",
   "metadata": {},
   "source": [
    "# Correction du DS 2"
   ]
  },
  {
   "cell_type": "markdown",
   "id": "a5116a45-33c2-4862-ba6b-21574da77f0a",
   "metadata": {},
   "source": [
    "## Exercice 1 - Statistiques"
   ]
  },
  {
   "cell_type": "markdown",
   "id": "a0412cf5-553f-4c22-b13a-6bc3117eeb99",
   "metadata": {},
   "source": [
    "1.Tracé de l'histogramme de la série statistique."
   ]
  },
  {
   "cell_type": "markdown",
   "id": "abfef5c3-5568-43e3-b44f-c4587e9dd9d1",
   "metadata": {},
   "source": [
    "2.Calculer l'effectif, les fréquences et fréquences cumulées croissantes, en déduire la médiane, les 1er et 3ème quartiles et les 1er et neuvième décile."
   ]
  },
  {
   "cell_type": "code",
   "execution_count": 4,
   "id": "6714ec4d-385f-4ad1-a59f-929002b69416",
   "metadata": {
    "tags": [
     "hide-input"
    ]
   },
   "outputs": [
    {
     "name": "stdout",
     "output_type": "stream",
     "text": [
      "L'effectif est de:  16759\n"
     ]
    }
   ],
   "source": []
  },
  {
   "cell_type": "code",
   "execution_count": 5,
   "id": "6081a110-4622-4b8d-8922-892a97722b10",
   "metadata": {
    "tags": [
     "hide-input"
    ]
   },
   "outputs": [
    {
     "data": {
      "text/html": [
       "<div>\n",
       "<style scoped>\n",
       "    .dataframe tbody tr th:only-of-type {\n",
       "        vertical-align: middle;\n",
       "    }\n",
       "\n",
       "    .dataframe tbody tr th {\n",
       "        vertical-align: top;\n",
       "    }\n",
       "\n",
       "    .dataframe thead th {\n",
       "        text-align: right;\n",
       "    }\n",
       "</style>\n",
       "<table border=\"1\" class=\"dataframe\">\n",
       "  <thead>\n",
       "    <tr style=\"text-align: right;\">\n",
       "      <th></th>\n",
       "      <th>Salaires</th>\n",
       "      <th>Nombre</th>\n",
       "      <th>Fréquence</th>\n",
       "      <th>Fréquence Cumulée</th>\n",
       "    </tr>\n",
       "  </thead>\n",
       "  <tbody>\n",
       "    <tr>\n",
       "      <th>0</th>\n",
       "      <td>1100</td>\n",
       "      <td>639</td>\n",
       "      <td>3.812877</td>\n",
       "      <td>3.812877</td>\n",
       "    </tr>\n",
       "    <tr>\n",
       "      <th>1</th>\n",
       "      <td>1350</td>\n",
       "      <td>3087</td>\n",
       "      <td>18.419953</td>\n",
       "      <td>22.232830</td>\n",
       "    </tr>\n",
       "    <tr>\n",
       "      <th>2</th>\n",
       "      <td>1650</td>\n",
       "      <td>3382</td>\n",
       "      <td>20.180202</td>\n",
       "      <td>42.413032</td>\n",
       "    </tr>\n",
       "    <tr>\n",
       "      <th>3</th>\n",
       "      <td>1950</td>\n",
       "      <td>2509</td>\n",
       "      <td>14.971060</td>\n",
       "      <td>57.384092</td>\n",
       "    </tr>\n",
       "    <tr>\n",
       "      <th>4</th>\n",
       "      <td>2300</td>\n",
       "      <td>2261</td>\n",
       "      <td>13.491258</td>\n",
       "      <td>70.875351</td>\n",
       "    </tr>\n",
       "    <tr>\n",
       "      <th>5</th>\n",
       "      <td>3000</td>\n",
       "      <td>2740</td>\n",
       "      <td>16.349424</td>\n",
       "      <td>87.224775</td>\n",
       "    </tr>\n",
       "    <tr>\n",
       "      <th>6</th>\n",
       "      <td>5000</td>\n",
       "      <td>2141</td>\n",
       "      <td>12.775225</td>\n",
       "      <td>100.000000</td>\n",
       "    </tr>\n",
       "  </tbody>\n",
       "</table>\n",
       "</div>"
      ],
      "text/plain": [
       "   Salaires  Nombre  Fréquence  Fréquence Cumulée\n",
       "0      1100     639   3.812877           3.812877\n",
       "1      1350    3087  18.419953          22.232830\n",
       "2      1650    3382  20.180202          42.413032\n",
       "3      1950    2509  14.971060          57.384092\n",
       "4      2300    2261  13.491258          70.875351\n",
       "5      3000    2740  16.349424          87.224775\n",
       "6      5000    2141  12.775225         100.000000"
      ]
     },
     "execution_count": 5,
     "metadata": {},
     "output_type": "execute_result"
    }
   ],
   "source": [
    "df"
   ]
  },
  {
   "cell_type": "markdown",
   "id": "496cd74e-0daf-4845-9667-5da9008b706f",
   "metadata": {},
   "source": [
    "3.Calculer la moyenne et l'écart-type."
   ]
  },
  {
   "cell_type": "markdown",
   "id": "29d01482-a6a8-4660-bd00-7c7de6bc68a1",
   "metadata": {},
   "source": [
    "On utilise les formules du cours. On trouve:"
   ]
  },
  {
   "cell_type": "code",
   "execution_count": 7,
   "id": "74fc8964-304a-4746-a1ea-ad1302638ce6",
   "metadata": {
    "tags": [
     "hide-input"
    ]
   },
   "outputs": [
    {
     "name": "stdout",
     "output_type": "stream",
     "text": [
      "Moyenne : 2355.0629512500745 €, Moyenne des carrés : 6879462.080076377 €², Variance:  1333140.5757256662 €², Ecart-type: 1154.617068869877 €\n"
     ]
    }
   ],
   "source": [
    "print(\"Moyenne :\", rezX, \"€, Moyenne des carrés :\", rezX2, \"€², Variance: \", var, \"€², Ecart-type:\",sigma, \"€\")"
   ]
  },
  {
   "cell_type": "markdown",
   "id": "c1b2c31e-45ed-4ddc-9e62-85f06db833ea",
   "metadata": {},
   "source": [
    "4.Deux différences notables: tout d'abord les intervalles ne sont pas les mêmes (bien plus précis dans le cas de la courbe de l'INSEE). Ensuite, les valeurs prises comme hypothèse au début pour les intervalles bas et haut."
   ]
  },
  {
   "cell_type": "markdown",
   "id": "d0acf32e-b2b9-492c-9509-0e393c500310",
   "metadata": {},
   "source": [
    "## Exercice 2 - Probabilités conditionelles et dénombrement"
   ]
  },
  {
   "cell_type": "markdown",
   "id": "25a96a8d-a627-4e2a-960c-e715d3317c29",
   "metadata": {},
   "source": [
    "**Correction:**\n",
    "\n",
    "1.La manière de compter est la même que celle du TD 1 des probabilités. Cela peut se voir également en faisant un arbre de choix: pour la première lettre il y a 5 choix, la deuxième 4, la troisième 3, etc. D'où la réponse: 5! = 120"
   ]
  },
  {
   "cell_type": "markdown",
   "id": "edce2d5b-d107-413f-a8ee-da8fbe1c5be1",
   "metadata": {},
   "source": [
    "2.On a 49 possibilités pour le premier tirage, 48 pour le deuxième, 47 pour le troisième,.. D'où: $49 \\cdot 48 \\cdot 47 \\cdot 46 \\cdot 45 \\cdot 44 \\sim 10 \\ milliards $"
   ]
  },
  {
   "cell_type": "markdown",
   "id": "af0f2e0f-d64f-4146-8d41-c635a0659586",
   "metadata": {},
   "source": [
    "3.On remplit l'arbre de probabilité avec ce qu'on connaît, et on en déduit le reste. Il faut d'abord commencer par $p_A(B)$. Cela se fait en notant que l'on connaît $p(B)$ et que $p(B)=p_A(B)*p(A)+p_{\\bar{A}}(B)*p(\\bar{A})$, d'où: $p_A(B)=\\frac{p(B)-p_{\\bar{A}}(B)*p(\\bar{A})}{p(A)}=0.9$"
   ]
  },
  {
   "cell_type": "markdown",
   "id": "73681aa8-6e7e-4af7-8b8d-aea4b53d5510",
   "metadata": {},
   "source": [
    "![Arbre](../images/arbreCorrecDS2.png)"
   ]
  },
  {
   "cell_type": "markdown",
   "id": "424523c6-41ab-44dc-8e13-c97466391ae1",
   "metadata": {},
   "source": [
    "On peut ensuite calculer $p(A \\cup B)$ par la formule: $P( A \\cup B) = p(A)+p(B)-p(A \\cap B)$. Ce dernier terme peut se calculer par exemple: $P(A \\cap B) =p_A(B)*p(A) = 0.36$. On obtient alors pour $P(A \\cup B) = 0.4+0.6-0.36 = 0.64$.\n",
    "\n",
    "Pour $p_{\\bar{B}}(A)$, on utilise la définition: $p_{\\bar{B}}(A) = \\frac{p(\\bar{B} \\cap A)}{p(\\bar{B})} = 0.4*0.1/0.4 = 0.1$"
   ]
  },
  {
   "cell_type": "markdown",
   "id": "64b3ee0d-1b73-4eb2-994b-d78a5e04b547",
   "metadata": {},
   "source": [
    "## Exercice 3 - Loi Binomiale"
   ]
  },
  {
   "cell_type": "markdown",
   "id": "2946cefc-c562-4f51-8190-bc709fbda089",
   "metadata": {},
   "source": [
    "**Correction:**\n",
    "\n",
    "1. On modélise la situation avec une loi binomiale: en effet, la façon la plus logique d'aborder l'exercice est de dire que chaque personne a une probabilité de 2.2% de faire sonner le portique. On a alors que X suit une loi binomiale, $X \\sim \\mathcal{B}(80,0.022)$.\n",
    "2. $E(X)=80*0.022=1.76$. On peut donc dire qu'en moyenne, entre 1 et 2 personnes font sonner le portique.\n",
    "3. On cherche $P(X \\geq 1)$. On utilise la complémentarité à 1: $P(X \\geq 1) = 1- P(X=0) = 1- \\begin{pmatrix} 80 \\\\ 0 \\end{pmatrix} 0.022^0 (1-0.022)^80 = 0.831$\n",
    "4. Soit T la variable aléatoire du temps passé en minutes pour le groupe. On a alors $T=5*X+(80-X)*10/60$. L'événement $(T \\leq 25)$ peut s'écrire: $(5*X+(80-X)*10/60 \\leq 25)=(X*(5-10/60) \\leq 25-80*10/60) = (29/6*X \\leq 142/6) = (X \\leq 142/29) =(X\\leq 4.89) = (X \\leq 4)$\n",
    "\n",
    "On calcule alors $P(X \\leq 4) = \\sum_{i=0}^4 P(X=i) = (1-0.022)^{80}+80*0.022*(1-0.022)^{79}+\\frac{80*79}{2}*0.022²*(1-0.022)^{78}+\\frac{80*79*78}{6}*0.022^3*(1-0.022)^{77}+\\frac{80*79*78*77}{24}0.022^4*(1-0.022)^{76}=0.968$\n",
    "\n",
    "On pouvait également approximer par une loi de poisson, les calculs étant plus simples. Cela donnait, avec $\\lambda = 80*0.022$: $P(X \\leq 4) = e^{-\\lambda}*(\\sum_{i=0}^4 \\frac{\\lambda^i}{i!} = 0.966$"
   ]
  },
  {
   "cell_type": "markdown",
   "id": "e5225737-2d3c-491f-9500-f5571f5470a2",
   "metadata": {},
   "source": [
    "## Exercice 4 - Loi Normale"
   ]
  },
  {
   "cell_type": "markdown",
   "id": "285012c6-68f3-416b-8e5d-ca68d553db8b",
   "metadata": {},
   "source": [
    "**Correction:**\n",
    "\n",
    "1. On commence par centrer et réduire. Soit $Y=\\frac{X-\\mu}{\\sigma}$, alors $Y \\sim \\mathcal{N}(0,1)$. \n",
    "Or: $P(720 \\leq X \\leq 770) = P(\\frac{720-\\mu}{\\sigma} \\leq Y \\leq \\frac{770-\\mu}{\\sigma}) = P(-1.2 \\leq Y \\leq 0.8)$\n",
    "\n",
    "on utilise ensuite la courbe et les propriétés de symétrie pour répondre. On voit que l'on a:\n",
    "$P(-1.2 \\leq Y \\leq 0.8) = P(Y \\leq 0.8)-P(Y\\leq -1.2)$. Or $P(Y \\leq -1.2) = P(Y \\geq 1.2) = 1-P(Y \\leq 1.2)$. Donc, en réinjectant, on obtient:\n",
    "\n",
    "$P(-1.2 \\leq Y \\leq 0.8) = P(Y \\leq 0.8)+P(Y \\leq 1.2) -1 = 0.673$"
   ]
  },
  {
   "cell_type": "markdown",
   "id": "89d7ba1d-a5e8-44de-a98e-0b62d3104613",
   "metadata": {},
   "source": [
    "2. On commence par traduire en math. On comprend que l'on cherche $n$ tel que: $P(X>n) \\leq 0.05$. On commence par centrer et réduire. $P(X>n)=P(Y> \\frac{n-\\mu}{\\sigma} )$. On note $x=\\frac{n-\\mu}{\\sigma}$. \n",
    "$P(Y>x) \\leq 0.05 \\leftrightarrow P(Y \\leq x) \\geq 0.95 $. La limite inférieure pour x est donc 1.645, car en effet si x<1.645 alors $P(Y \\leq x) < 0.95$ (ce qui traduit que la fonction de répartition est une fonction croissante de x). Par conséquent on a $x \\geq 1.645 \\leftrightarrow \\frac{n-\\mu}{\\sigma} \\leq 1.645 \\leftrightarrow n \\geq \\mu +\\sigma * 1.645$. D'où: $n \\geq 791.125$. Comme n ne prend que des valeurs entières, on en déduit $n=792$."
   ]
  },
  {
   "cell_type": "markdown",
   "id": "7be8b095-bf3b-4618-9b4d-3e2a12ffaf11",
   "metadata": {},
   "source": [
    "## Bonus"
   ]
  },
  {
   "cell_type": "markdown",
   "id": "de2fefd3-57d0-43c6-864b-0f85caeb6e7d",
   "metadata": {},
   "source": [
    "**Correction:**\n",
    "\n",
    "Pour cet exercice, il faut raisonner en probabilités conditionelles: on fixe k le nombre de sacs de ciments achetés; il y a pour cela une probabilité $p(k)= e^{-3}*\\frac{3^k}{k!}$. \n",
    "\n",
    "Sachant que la personne a acheté k sacs de ciments, on peut dire que le nombre de fois où la personne se fait mal au dos suit, au choix:\n",
    "- une loi binomiale de paramètre $\\mathcal{B}(k,1/100)$.\n",
    "- une loi géométrique s'arrêtant à k, ce qui serait même plus exact, mais pas dans le cadre de ce cours.\n",
    "\n",
    "Soit alors $X \\sim \\mathcal{B}(k,1/100)$, on cherche $P( X \\geq 1) = 1-P(X=0)=1-(\\frac{99}{100})^k$"
   ]
  },
  {
   "cell_type": "markdown",
   "id": "2c6c5850-35fe-428b-940c-27a23d5f788f",
   "metadata": {},
   "source": [
    "Il faut maintenant faire la somme sur les k pour connaître la probabilité que la personne aille chez l'osthéopathe. On doit donc calculer $\\sum_{k=1}^{+\\infty} p(k)*(1-(99/100)^k)=\\sum_{k=1}^{+\\infty} p(k) -e^{-3}*\\sum_{k=1}^{+\\infty} (3*99/100)^k = 1-p(0)-e^{-3}*(e^{3*99/100}-1)=1-e^{-3}*e^{3*99/100}=1-e^{-1/100}=0.00995$."
   ]
  },
  {
   "cell_type": "markdown",
   "id": "8a2aa283-6604-40b2-b0a9-d25176d639ce",
   "metadata": {},
   "source": [
    "Maintenant que l'on connaît la probabilité d'aller chez l'osthéopathe, on peut s'intéresser à la loi uniforme. Notons au passage l'erreur d'énoncé: une personne n'attendra jamais 1h exactement, c'est un intervalle qui doit être donné; par conséquent une réponse immédiate à la question aurait pu être 0. \n",
    "Supposons que l'on cherche la probabilité d'attendre moins de 1h. Cela correspond à une probabilité de $1/3$. On obtient donc pour la probabilité d'aller chez l'osthéopathe et d'attendre moins d'une heure: $0.00995*1/3 = 0.0033= 0.3\\%$"
   ]
  }
 ],
 "metadata": {
  "kernelspec": {
   "display_name": "Python 3 (ipykernel)",
   "language": "python",
   "name": "python3"
  },
  "language_info": {
   "codemirror_mode": {
    "name": "ipython",
    "version": 3
   },
   "file_extension": ".py",
   "mimetype": "text/x-python",
   "name": "python",
   "nbconvert_exporter": "python",
   "pygments_lexer": "ipython3",
   "version": "3.8.8"
  },
  "widgets": {
   "application/vnd.jupyter.widget-state+json": {
    "state": {},
    "version_major": 2,
    "version_minor": 0
   }
  }
 },
 "nbformat": 4,
 "nbformat_minor": 5
}
