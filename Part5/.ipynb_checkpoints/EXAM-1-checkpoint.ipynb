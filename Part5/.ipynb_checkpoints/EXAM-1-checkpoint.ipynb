{
 "cells": [
  {
   "cell_type": "markdown",
   "id": "89e9c1da",
   "metadata": {},
   "source": [
    "# Sujet Contrôle DSC1"
   ]
  },
  {
   "cell_type": "markdown",
   "id": "1b169734",
   "metadata": {},
   "source": [
    "**Exercice 1**. *  **(5 Points)***\n",
    "\n",
    "Soient $$M=\\begin{pmatrix}\n",
    "2&1&0\\\\ -3&-1&1\\\\ 1&0&-1\n",
    "\\end{pmatrix}$$\n",
    "\n",
    "1.  Calculer $M^2$ et $M^3$. Qu’en déduire pour le déterminant de M?\n",
    "\n",
    "2.  Calculer $I_3+M+M^2$, avec $I_3$ la matrice identité de taille\n",
    "    3x3.\n",
    "\n",
    "3.  Développer $(I_3-M)*(I_3+M+M^2)$. En déduire l’inverse de $I_3-M$.\n",
    "\n",
    "**Exercice 2**.   **(8 Points)**\n",
    "\n",
    "Soient $\\vec{n}_1 =\\begin{pmatrix} 3 \\\\ 0 \\\\2 \\end{pmatrix}$ et\n",
    "$\\vec{n}_2 =\\begin{pmatrix} 2 \\\\ 0 \\\\-2 \\end{pmatrix}$.\n",
    "\n",
    "Soient $A(1,-1,2)$, $B(-1,-2,3)$ et $C(0,2,-1)$.\n",
    "\n",
    "1.  Calculer $\\vec{n}_1 \\cdot \\vec{n}_2$, $\\vec{n}_1 \\wedge \\vec{AB}$\n",
    "    et $||\\vec{AB}||$\n",
    "\n",
    "2.  Calculer l’équation cartésienne du plan $(P_1)$ ayant pour normal\n",
    "    $\\vec{n}_1$ et celle du plan $(P_2)$ ayant pour normal $\\vec{n}_2$,\n",
    "    sachant que le point A est dans les deux plans.\n",
    "\n",
    "3.  Calculer l’équation cartésienne du plan $(P_3)$ passant par les\n",
    "    points A,B et C.\n",
    "\n",
    "4.  Ecrire le système permettant de trouver l’intersection de ces trois\n",
    "    plans, puis l’écrire sous forme matricielle $AX = Y$\n",
    "\n",
    "5.  Soit $D(a,-2,5)$ où $a\\in \\mathbb{R}$.\n",
    "\n",
    "    1.  Trouver l’équation paramétrique de la droite $(BD)$.\n",
    "\n",
    "    2.  Pour quelle valeur de $a$, $(BD)$ est perpendiculaire au plan\n",
    "        $(P_1)$?\n",
    "\n",
    "**Exercice 3**.   **(7 Points)**\n",
    "\n",
    "Soit $$A=\\begin{pmatrix}\n",
    "3&0&2\\\\ 2&0&-2\\\\ 0&1&1\n",
    "\\end{pmatrix}$$\n",
    "\n",
    "1.  Montrer que $A$ est inversible.\n",
    "\n",
    "2.  Trouver $A^{-1}$.\n",
    "\n",
    "3.  Soit $\\displaystyle{B=\\begin{pmatrix}7\\\\ -2\\\\1 \\end{pmatrix}}$.\n",
    "    Résoudre le système $AX=B$, avec ou sans calculs, et en justifiant.\n",
    "\n",
    "**BONUS**   **(3 Points)**\n",
    "\n",
    "On considère les points (A,B,C) de l’exercice 2. Trouver la valeur de\n",
    "l’angle formé entre $(AB)$ et $(AC)$."
   ]
  }
 ],
 "metadata": {
  "kernelspec": {
   "display_name": "Python 3",
   "language": "python",
   "name": "python3"
  },
  "language_info": {
   "codemirror_mode": {
    "name": "ipython",
    "version": 3
   },
   "file_extension": ".py",
   "mimetype": "text/x-python",
   "name": "python",
   "nbconvert_exporter": "python",
   "pygments_lexer": "ipython3",
   "version": "3.8.8"
  }
 },
 "nbformat": 4,
 "nbformat_minor": 5
}
