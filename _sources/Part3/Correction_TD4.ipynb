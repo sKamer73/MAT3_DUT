{
 "cells": [
  {
   "cell_type": "markdown",
   "id": "61454fb6",
   "metadata": {},
   "source": [
    "# Correction du TD4"
   ]
  },
  {
   "cell_type": "markdown",
   "id": "f421587f",
   "metadata": {},
   "source": [
    "**Exercice 1**. (\\* à \\*\\*\\*) En utilisant les définitions du cours,\n",
    "montrer que :\n",
    "\n",
    "1.  si $X \\sim \\mathcal{B}(p)$ alors $\\mathbb{E}[X] = p$ et\n",
    "    ${\\rm Var}[X]=p(1-p)$\n",
    "\n",
    "2.  si $X \\sim \\mathcal{U}([1,2])$ alors $\\mathbb{E}[X] = \\dfrac{3}{2}$\n",
    "    et ${\\rm Var}[X] = \\dfrac{1}{12}$\n",
    "\n",
    "3.  si $X \\sim \\mathcal{E}(\\lambda)$ alors\n",
    "    $\\mathbb{E}[X] = \\dfrac{1}{\\lambda}$ et\n",
    "    ${\\rm Var}(X) = \\dfrac{1}{\\lambda^2}$.  \n",
    "      \n",
    "    Ce dernier cas est plus difficile.  \n",
    "    Indication: Utiliser une intégration par parties.  "
   ]
  },
  {
   "cell_type": "markdown",
   "id": "99972514",
   "metadata": {},
   "source": [
    "Cet exercice est traité dans la feuille de cours supplémentaire."
   ]
  },
  {
   "cell_type": "markdown",
   "id": "4d86e1c6",
   "metadata": {},
   "source": [
    "**Exercice 2**. (\\*\\*) Soit $X$ une variable aléatoire. Calculer la\n",
    "fonction de répartition de $X$ lorsque :\n",
    "\n",
    "1.  $X \\sim \\mathcal{U}([a,b])$\n",
    "\n",
    "2.  $X\\sim \\mathcal{E}(\\lambda)$  "
   ]
  },
  {
   "cell_type": "markdown",
   "id": "12efff27",
   "metadata": {},
   "source": [
    "1. $F_X(x) = \\int_a^x \\frac{dt}{b-a} =  \\frac{x-a}{b-a}$\n",
    "2. $F_X(x) = \\int_0^x \\lambda e^{-\\lambda t}dt = [-e^{-\\lambda t}]_0^x = 1-e^{-\\lambda x}$"
   ]
  },
  {
   "cell_type": "markdown",
   "id": "2797bd7c",
   "metadata": {},
   "source": []
  }
 ],
 "metadata": {
  "kernelspec": {
   "display_name": "Python 3 (ipykernel)",
   "language": "python",
   "name": "python3"
  },
  "language_info": {
   "codemirror_mode": {
    "name": "ipython",
    "version": 3
   },
   "file_extension": ".py",
   "mimetype": "text/x-python",
   "name": "python",
   "nbconvert_exporter": "python",
   "pygments_lexer": "ipython3",
   "version": "3.8.8"
  }
 },
 "nbformat": 4,
 "nbformat_minor": 5
}
