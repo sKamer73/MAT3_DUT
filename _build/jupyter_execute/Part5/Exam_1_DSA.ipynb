{
 "cells": [
  {
   "cell_type": "markdown",
   "id": "def371ff-9450-4594-a986-a475a4a4f59e",
   "metadata": {
    "tags": []
   },
   "source": [
    "# Sujet Contrôle DSA 1"
   ]
  },
  {
   "cell_type": "markdown",
   "id": "2c46bba1",
   "metadata": {},
   "source": [
    "**Exercice 1**.   **(5 Points)**\n",
    "\n",
    "Soient $A=\\begin{pmatrix}\n",
    "1&1&0\\\\ 0&1&1\\\\ 0&0&1\n",
    "\\end{pmatrix}$ et\n",
    "$B = \\begin{pmatrix} 0&1&0 \\\\ 0&0&1 \\\\ 0&0&0 \\end{pmatrix}$\n",
    "\n",
    "1.  Calculer $(2I_3+A)$, ($2I_3+A - ~^tB)\\times B$ (avec $~^tB$ la\n",
    "    transposée de $B$), $B^2$ et $B^3$ .\n",
    "\n",
    "2.  Donner une relation entre $I_3$, A et B. En déduire que A et B\n",
    "    commutent (i.e., $AB=BA$).\n",
    "\n",
    "3.  Soit $n \\in \\mathbb{N}$. Calculer $B^n$ selon les valeurs de n. En\n",
    "    utilisant la formule de Newton et les éléments donnée à la fin de ce\n",
    "    document, donnez une expression pour $A^n$.\n",
    "\n",
    "**Exercice 2**.   **(8 Points)**\n",
    "\n",
    "Soient $\\vec{n} =\\begin{pmatrix} 1 \\\\ 2 \\\\3 \\end{pmatrix}$ et\n",
    "$\\vec{d} =\\begin{pmatrix} 2 \\\\ 0 \\\\-2 \\end{pmatrix}$.\n",
    "\n",
    "Soient $A(2,0,-2)$, $B(2,3,-1)$ et $C(0,2,-1)$.\n",
    "\n",
    "1.  Calculer $\\vec{n} \\cdot \\vec{d}$, $\\vec{n} \\wedge \\vec{AC}$ et\n",
    "    $||\\vec{AB}||$\n",
    "\n",
    "2.  Calculer l’équation cartésienne du plan $(P)$ passant par les\n",
    "    points A,B et C.\n",
    "\n",
    "3.  Calculer le système cartésien de la droite $\\mathcal{D}$, de\n",
    "    vecteur directeur $\\vec{d}$ et telle que B appartienne à cette\n",
    "    droite.\n",
    "\n",
    "4.  Ecrire le système permettant de trouver l’intersection de la droite\n",
    "    et du plan, puis l’écrire sous forme matricielle $AX = Y$\n",
    "\n",
    "5.  Soit $D(1,-2,5)$. On cherche un point $M(x,y,z)$ tel que la droite\n",
    "    $(DM)$ soit perpendiculaire à la droite $\\mathcal{D}$\n",
    "\n",
    "    1.  On suppose que $M \\in \\mathcal{D}$. Ecrire la condition de\n",
    "        perpendicularité entre $(DM)$ et $\\mathcal{D}$.\n",
    "\n",
    "    2.  On prend un point $M(x,y,z)$ sur la droite $\\mathcal{D}$.\n",
    "        Ecrire les conditions d’appartenance de $M$ à $\\mathcal{D}$,\n",
    "        puis écrire et résoudre le système associé à l’appartenance de\n",
    "        $M$ à $\\mathcal{D}$ et la perpendicularité de $(DM)$ et\n",
    "        $\\mathcal{D}$. Conclure.\n",
    "\n",
    "**Exercice 3**.   **(7 Points)**\n",
    "\n",
    "Soit $$A=\\begin{pmatrix}\n",
    "1&-2&6\\\\ 0&1&0\\\\ 1&0&1\n",
    "\\end{pmatrix}$$\n",
    "\n",
    "1.  Montrer que $A$ est inversible.\n",
    "\n",
    "2.  Trouver $A^{-1}$.\n",
    "\n",
    "3.  Soit $\\displaystyle{Y=\\begin{pmatrix}-10\\\\ 3\\\\1 \\end{pmatrix}}$.\n",
    "    Résoudre le système $AX=Y$, avec ou sans calculs, et en justifiant.\n",
    "\n",
    "**BONUS**   **(2 Points)** Soient a et b deux réels non-nuls, on pose\n",
    "$A=\\begin{pmatrix} a & b \\\\ 0&a \\end{pmatrix}$. En posant une matrice\n",
    "$B=\\begin{pmatrix} c &d \\\\ e&f \\end{pmatrix}$, donner l’ensemble des\n",
    "matrices qui commutent avec $A$, c’est-à-dire telles que $AB=BA$.\n",
    "\n",
    "**Formule de Newton** **Q.1.c.** Soient 2 matrices $M$ et $N$ qui\n",
    "commutent, alors:\n",
    "$(M+N)^n = \\sum_{k=0}^n \\begin{pmatrix} n \\\\ k \\end{pmatrix} M^k N^{n-k} = \\begin{pmatrix} n \\\\ 0 \\end{pmatrix}M^0N^n + \\begin{pmatrix} n \\\\ 1 \\end{pmatrix}M^1N^{n-1} + \\begin{pmatrix} n \\\\ 2 \\end{pmatrix}M^2N^{n-2} + \\dots + \\begin{pmatrix} n \\\\ n-1 \\end{pmatrix}M^{n-1}N^{1} + \\begin{pmatrix} n \\\\ n \\end{pmatrix}M^{n}N^{0}$.\n",
    "On donne $\\begin{pmatrix} n \\\\ 0 \\end{pmatrix} = 1$,\n",
    "$\\begin{pmatrix} n \\\\ 1 \\end{pmatrix} = n$,\n",
    "$\\begin{pmatrix} n \\\\ 2 \\end{pmatrix} = \\frac{n(n-1)}{2}$ et $B^0=I_3$.\n",
    "Pour information,\n",
    "$\\begin{pmatrix} n \\\\ k \\end{pmatrix} = \\frac{n!}{k!(n-k)!}$, avec\n",
    "$k \\leq n$ des entiers et\n",
    "$n! = n \\times (n-1) \\times (n-2) \\times \\dots \\times 2 \\times 1$.\n",
    "\n",
    "**EX1:=(0.5+1+0.5+0.5)+(0.5+0.5)+(0.75+0.75)    EX2:=2+2+1+1+1+1    EX3:=1.5+4+1.5**"
   ]
  }
 ],
 "metadata": {
  "kernelspec": {
   "display_name": "Python 3 (ipykernel)",
   "language": "python",
   "name": "python3"
  },
  "language_info": {
   "codemirror_mode": {
    "name": "ipython",
    "version": 3
   },
   "file_extension": ".py",
   "mimetype": "text/x-python",
   "name": "python",
   "nbconvert_exporter": "python",
   "pygments_lexer": "ipython3",
   "version": "3.8.8"
  },
  "widgets": {
   "application/vnd.jupyter.widget-state+json": {
    "state": {},
    "version_major": 2,
    "version_minor": 0
   }
  }
 },
 "nbformat": 4,
 "nbformat_minor": 5
}