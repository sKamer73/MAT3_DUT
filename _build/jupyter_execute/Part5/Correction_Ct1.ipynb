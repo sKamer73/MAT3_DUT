{
 "cells": [
  {
   "cell_type": "markdown",
   "id": "308465a4-cf89-494c-b8a5-c9bcc6c347b0",
   "metadata": {},
   "source": [
    "# Brève Correction - DSC1"
   ]
  },
  {
   "cell_type": "markdown",
   "id": "9b3c67d4-2bc3-4304-aca6-77d6bcec4949",
   "metadata": {},
   "source": [
    "**Exercice 1:**"
   ]
  },
  {
   "cell_type": "code",
   "execution_count": 1,
   "id": "11a2e464-584c-406d-b31b-6fafdeb72c46",
   "metadata": {},
   "outputs": [
    {
     "name": "stdout",
     "output_type": "stream",
     "text": [
      "M²= [[ 1  1  1]\n",
      " [-2 -2 -2]\n",
      " [ 1  1  1]]\n",
      "M^3= [[0 0 0]\n",
      " [0 0 0]\n",
      " [0 0 0]]\n"
     ]
    }
   ],
   "source": [
    "import numpy as np\n",
    "M=np.array([[2,1,0],[-3,-1,1],[1,0,-1]])\n",
    "print(\"M²=\",M.dot(M))\n",
    "print(\"M^3=\",M.dot(M.dot(M)))"
   ]
  },
  {
   "cell_type": "markdown",
   "id": "3ee25e58",
   "metadata": {},
   "source": [
    "$ det(M^3) = det(M)^3 = 0 \\implies det(M) = 0$"
   ]
  },
  {
   "cell_type": "code",
   "execution_count": 2,
   "id": "5dee7991-e9ab-4ad3-9170-c6af03d1a3f8",
   "metadata": {},
   "outputs": [
    {
     "name": "stdout",
     "output_type": "stream",
     "text": [
      "[[ 4.  2.  1.]\n",
      " [-5. -2. -1.]\n",
      " [ 2.  1.  1.]]\n"
     ]
    }
   ],
   "source": [
    "I3=np.identity(3)\n",
    "print(I3+M+M.dot(M))"
   ]
  },
  {
   "cell_type": "markdown",
   "id": "4cd1b62b-0c71-443c-b6ec-54b6a02f00bc",
   "metadata": {},
   "source": [
    "3. $(I_3-M)*(I_3+M+M²)=I_3+M+M²-M*I_3-M*M-M*M² = I_3+M-M+M²-M²-M^3 = I_3$"
   ]
  },
  {
   "cell_type": "markdown",
   "id": "1a126ef5-c045-4e7a-8277-023c8fc5544f",
   "metadata": {},
   "source": [
    "**Exercice 2:**"
   ]
  },
  {
   "cell_type": "markdown",
   "id": "0d0d3bbf",
   "metadata": {},
   "source": [
    "a.1. $\\vec{n}_1 \\cdot \\vec{n}_2 = 3*2+2*(-2)=2$\n",
    "\n",
    "a.2. $ \\vec{n}_1 \\wedge \\vec{AB} = \\begin{pmatrix} 2 \\\\ -7 \\\\ -3 \\end{pmatrix}$\n",
    "\n",
    "a.3. $ ||\\vec{AB}|| = ||  \\begin{pmatrix} -2 \\\\ -1 \\\\ 1 \\end{pmatrix} || = \\sqrt{2²+1²+1²} = \\sqrt{6}$"
   ]
  },
  {
   "cell_type": "markdown",
   "id": "d4cbb748",
   "metadata": {},
   "source": [
    "b. $ \\vec{n_1} \\cdot \\vec{AM} = 0 \\implies 3*(x-1)+2*(z-2)=0 \\implies 3x +2z = 7 $\n",
    "\n",
    "$ \\vec{n}_2 \\cdot \\vec{AM} = 0 \\implies 2*(x-1) -2 * (z-2) = 0 \\implies 2x-2z = -2 $ "
   ]
  },
  {
   "cell_type": "markdown",
   "id": "4c2f7994",
   "metadata": {},
   "source": [
    "c. $ \\vec{n} = \\vec{AB} \\wedge \\vec{AC} = \\begin{pmatrix} 0 \\\\ -7 \\\\ -7 \\end{pmatrix} $ \n",
    "\n",
    "$\\vec{n} \\cdot \\vec{AM} = -7*(y+1)-7*(z-2) = 0 \\implies y+1+z-2 = 0 \\implies y+z = 1 $"
   ]
  },
  {
   "cell_type": "markdown",
   "id": "85699dd9-9a7e-4930-9f6e-aa42eebb40c1",
   "metadata": {},
   "source": [
    "d. $(S) : \\left\\{ \\begin{array}{l}  3x + 0y +2z = 7 \\\\  2x + 0y -2z =-2 \\\\  0x + y+z=1  \\end{array} \\right.$  \n",
    "En prenant: $A=\\begin{pmatrix}\n",
    "    3&0&2\\\\\n",
    "    2&0&-2\\\\\n",
    "    0&1&1\n",
    "    \\end{pmatrix}$  et $X = \\begin{pmatrix} x \\\\ y \\\\ z \\end{pmatrix} $ et $ Y = \\begin{pmatrix} 7 \\\\ -2 \\\\ 1 \\end{pmatrix}$"
   ]
  },
  {
   "cell_type": "markdown",
   "id": "15023112",
   "metadata": {},
   "source": [
    "e.i. L'équation paramètrique de la droite (BD) s'écrit sous forme vectoriel (et le système paramétrique sous forme d'un système). \n",
    "Cela s'écrit de la manière suivante: $(BD) = \\{ \\text{points M tels que:}\\vec{BM} = \\lambda \\vec{BD}, \\lambda \\in \\mathbb{R} \\}$\n",
    "\n",
    "On peut préciser $\\vec{BD} = \\begin{pmatrix} a+1 \\\\ 0 \\\\ 2 \\end{pmatrix}$, ce qui donne le système paramètrique suivante: soit $M(x,y,z)$ un point de (BD), alors le système suivant est vérifié:\n",
    "$(S) : \\left\\{ \\begin{array}{l}  x = -1 + \\lambda*(a+1) \\\\  y =-2 \\\\  z= 3 + 2*\\lambda  \\end{array} \\right.$  "
   ]
  },
  {
   "cell_type": "markdown",
   "id": "f8d2ba8f",
   "metadata": {},
   "source": [
    "e.ii. Il faut et il suffit que le vecteur directeur de la droite (BD) soit proportionelle au vecteur normale de $(P_1)$. Cela s'écrit alors: $\\vec{BD} = \\lambda \\vec{n}_1$, $\\lambda \\in \\mathbb{R}$. Cela donne le système suivant:\n",
    "\n",
    "$(S) : \\left\\{ \\begin{array}{l}  a+1 = 3 \\lambda \\\\  0 = 0 \\\\  2=2 \\lambda  \\end{array} \\right.$  \n",
    "\n",
    "On obtient de la dernière équation que $\\lambda = 1$ et de la première, on obtient que $a=2$."
   ]
  },
  {
   "cell_type": "markdown",
   "id": "dae86946",
   "metadata": {},
   "source": [
    "**Exercice 3**:\n",
    "\n",
    "a. On peut soit calculer le déterminant, soit inverser la matrice et montrer qu'elle est inversible. Les résultats sont donnés ici directement (se référer au cours pour la méthode de calcul)."
   ]
  },
  {
   "cell_type": "code",
   "execution_count": 6,
   "id": "4bbc39fc-7ba4-47ec-80ae-7eee5975380d",
   "metadata": {},
   "outputs": [
    {
     "name": "stdout",
     "output_type": "stream",
     "text": [
      "det(A)= 10.000000000000002\n",
      "A^(-1) =  [[ 0.2  0.2  0. ]\n",
      " [-0.2  0.3  1. ]\n",
      " [ 0.2 -0.3 -0. ]]\n"
     ]
    }
   ],
   "source": [
    "import numpy as np\n",
    "A=np.array([[3,0,2],[2,0,-2],[0,1,1]])\n",
    "print(\"det(A)=\",np.linalg.det(A))\n",
    "print(\"A^(-1) = \", np.linalg.inv(A))"
   ]
  },
  {
   "cell_type": "markdown",
   "id": "ea4d12f9",
   "metadata": {},
   "source": [
    "c. On peut remarquer que les matrices correspondent par rapport à l'exercice 2. Or le point d'intersection des trois plans est forcément le point A (commun aux trois plans). Par conséquent, la solution du système est le point A."
   ]
  }
 ],
 "metadata": {
  "kernelspec": {
   "display_name": "Python 3",
   "language": "python",
   "name": "python3"
  },
  "language_info": {
   "codemirror_mode": {
    "name": "ipython",
    "version": 3
   },
   "file_extension": ".py",
   "mimetype": "text/x-python",
   "name": "python",
   "nbconvert_exporter": "python",
   "pygments_lexer": "ipython3",
   "version": "3.8.8"
  },
  "widgets": {
   "application/vnd.jupyter.widget-state+json": {
    "state": {},
    "version_major": 2,
    "version_minor": 0
   }
  }
 },
 "nbformat": 4,
 "nbformat_minor": 5
}