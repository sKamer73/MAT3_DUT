{
 "cells": [
  {
   "cell_type": "markdown",
   "id": "45666614-4a7a-41fb-952d-4328720f5d9a",
   "metadata": {},
   "source": [
    "# Correction rapide - DSA1"
   ]
  },
  {
   "cell_type": "markdown",
   "id": "7a7df319-656a-4abe-9203-8e396cf03ab3",
   "metadata": {},
   "source": [
    "## Exercice 1"
   ]
  },
  {
   "cell_type": "markdown",
   "id": "d081ecb1-760a-433f-a44d-33fbe6daadcb",
   "metadata": {},
   "source": [
    "**Question 1:** 0.5 +1 +0.5 +0.5"
   ]
  },
  {
   "cell_type": "code",
   "execution_count": 2,
   "id": "c7349ea7-f677-403a-83a3-3cbee0e39223",
   "metadata": {},
   "outputs": [
    {
     "name": "stdout",
     "output_type": "stream",
     "text": [
      "A+2I_3 =  [[3. 1. 0.]\n",
      " [0. 3. 1.]\n",
      " [0. 0. 3.]]\n",
      "(A+2I_3-transpose(B))*B =  [[ 0.  3.  1.]\n",
      " [ 0. -1.  3.]\n",
      " [ 0.  0. -1.]]\n",
      "B² =  [[0. 0. 1.]\n",
      " [0. 0. 0.]\n",
      " [0. 0. 0.]]\n",
      "B^3 =  [[0. 0. 0.]\n",
      " [0. 0. 0.]\n",
      " [0. 0. 0.]]\n"
     ]
    }
   ],
   "source": [
    "import numpy as np\n",
    "A = np.array([[1,1,0],[0,1,1],[0,0,1]])\n",
    "rez1 = 2*np.identity(3)+A\n",
    "print(\"A+2I_3 = \",rez1)\n",
    "B=A-np.identity(3)\n",
    "rez2 = rez1-np.transpose(B)\n",
    "print( \"(A+2I_3-transpose(B))*B = \", rez2.dot(B))\n",
    "print(\"B² = \", B.dot(B))\n",
    "print(\"B^3 = \", B.dot(B.dot(B)))"
   ]
  },
  {
   "cell_type": "markdown",
   "id": "b7fd0fec-69fe-4cc7-bba2-1dc7cb2cbfaa",
   "metadata": {},
   "source": [
    "**Question 2:** 0.5+0.5"
   ]
  },
  {
   "cell_type": "markdown",
   "id": "031a7441-027d-4554-82d0-bafb1f74f911",
   "metadata": {},
   "source": [
    "$B=A-I_3$. Donc: $AB = A(A-I_3) = A²-A = (A-I_3)*A = BA$"
   ]
  },
  {
   "cell_type": "markdown",
   "id": "7d32e016-f376-436e-8e70-1629e26e12d7",
   "metadata": {},
   "source": [
    "**Question 3:**\n",
    "\n",
    "On a vu que $B^3=0$. On en déuit que $B^n = 0$ pour tout n>=3. De plus, on connaît $B$ et $B^2$ de la question 1. En développant avec le binôme de Newton, comme on sait que $B$ et $I_3$ commutent, on a : $A^n = (B+I_3)^n = \\sum_{k=0}^n \\begin{pmatrix} n \\\\ k \\end{pmatrix} B^k \\times I_3^{n-k} = \\begin{pmatrix} n \\\\ 0 \\end{pmatrix} I_3 + \\begin{pmatrix} n \\\\ 1 \\end{pmatrix} B + \\begin{pmatrix} n \\\\ 2 \\end{pmatrix}B^2$. Ce qui donne: $A^n = \\begin{pmatrix} 1 & n & \\frac{n(n-1)}{2} \\\\ 0&1&n \\\\ 0&0&1 \\end{pmatrix} $"
   ]
  },
  {
   "cell_type": "markdown",
   "id": "54b40eff-07ca-4052-87db-189d1fc5be62",
   "metadata": {},
   "source": [
    "## Exercice 2:"
   ]
  },
  {
   "cell_type": "markdown",
   "id": "f917c1ea-b473-4115-9e09-394c480b2f01",
   "metadata": {},
   "source": [
    "**Question a:**"
   ]
  },
  {
   "cell_type": "code",
   "execution_count": 3,
   "id": "a0f6515a-5e81-4eac-9b47-12898137660a",
   "metadata": {},
   "outputs": [
    {
     "name": "stdout",
     "output_type": "stream",
     "text": [
      "n.d =  -4\n",
      " n vectorielle AC =  [-4 -7  6]\n",
      " Norme de AB =  3.1622776601683795  = sqrt(10) =  3.1622776601683795\n"
     ]
    }
   ],
   "source": [
    "from math import sqrt\n",
    "n = np.array([1,2,3])\n",
    "d = np.array([2,0,-2])\n",
    "AC = np.array([0-2,2-0,-1-(-2)])\n",
    "AB = np.array([2-2,3-0,-1-(-2)])\n",
    "print(\"n.d = \", n.dot(d) )\n",
    "print(\" n vectorielle AC = \", np.cross(n,AC) ) \n",
    "print(\" Norme de AB = \", np.linalg.norm(AB), \" = sqrt(10) = \", sqrt(10))"
   ]
  },
  {
   "cell_type": "markdown",
   "id": "118cea32-04c5-4c77-a9b2-01f4e05f4109",
   "metadata": {},
   "source": [
    "**Question b:**"
   ]
  },
  {
   "cell_type": "code",
   "execution_count": 4,
   "id": "0d387644-178b-4bcc-b761-7db2668319ae",
   "metadata": {},
   "outputs": [
    {
     "name": "stdout",
     "output_type": "stream",
     "text": [
      "Normal à P: [ 1 -2  6]\n"
     ]
    }
   ],
   "source": [
    "normalP = np.cross(AB,AC)\n",
    "print(\"Normal à P:\", normalP)"
   ]
  },
  {
   "cell_type": "markdown",
   "id": "770abfbd-00e5-44cd-bb9c-a20f8c554ce3",
   "metadata": {},
   "source": [
    "On en déduit l'équation du plan: $\\vec{AM} \\cdot \\vec{n} = 0 \\implies \\begin{pmatrix} x-2 \\\\ y \\\\ z+2 \\end{pmatrix} \\cdot \\begin{pmatrix} 1 \\\\ -2 \\\\ 6 \\end{pmatrix} = 0 \\implies (x-2)-2y+6(z+2) = 0 \\implies x-2y+6z = -10$ "
   ]
  },
  {
   "cell_type": "markdown",
   "id": "6d93863d-8651-4c17-ba35-18fad7ca3734",
   "metadata": {},
   "source": [
    "**Question c:**\n",
    "\n",
    "On prend un point M(x,y,z) sur la droite, alors ce point vérifie: $\\vec{BM} \\wedge \\vec{d} = \\vec{0}$, ce qui donne: $\\begin{pmatrix} -2(y-3) \\\\ 2(x-2)+2(z+1) \\\\ -2(y-3) \\end{pmatrix} = \\vec{0}$. On voit que la première et la dernière coordonnée nous donnent la même équation. Le système cartésien s'écrit alors: \n",
    "$\\left\\lbrace\\begin{array}{lll}\n",
    "y = 3\\\\\n",
    "x+z = 1\n",
    "\\end{array}\\right.$"
   ]
  },
  {
   "cell_type": "markdown",
   "id": "4469acc6-6ef5-417d-b0d1-8ba7a66c4010",
   "metadata": {},
   "source": [
    "**Question d:**\n",
    "\n",
    "On unit alors les deux systèmes, ce qui donne: \n",
    "$\\left\\lbrace\\begin{array}{lll}\n",
    "x-2y+6z = -10\\\\\n",
    "y = 3 \\\\\n",
    "x+z = 1\n",
    "\\end{array}\\right.$"
   ]
  },
  {
   "cell_type": "markdown",
   "id": "f9d051d2-0f9f-4836-a04c-70a13a8c4412",
   "metadata": {},
   "source": [
    "La matrice associée A s'écrit alors: $A = \\begin{pmatrix} 1&-2&6 \\\\ 0&1&0 \\\\ 1&0&1 \\end{pmatrix}$ et la matrice $Y = \\begin{pmatrix} -10 \\\\ 3 \\\\ 1 \\end{pmatrix}$"
   ]
  },
  {
   "cell_type": "markdown",
   "id": "8c6dfecd-98bb-4852-9673-cb82f662d076",
   "metadata": {},
   "source": [
    "**Question e:**\n",
    "i. Cela s'écrit: $\\vec{DM} \\cdot \\vec{d} = 0 \\implies \\begin{pmatrix} x-1 \\\\ y+2 \\\\ z-5 \\end{pmatrix} \\cdot \\begin{pmatrix} 2 \\\\ 0 \\\\ -2 \\end{pmatrix} = 0 \\implies 2(x-1)-2(z-5) = 0 \\implies x-z = -4$"
   ]
  },
  {
   "cell_type": "markdown",
   "id": "8c7fe6cf-f1ca-4cda-aad2-0008dc2a7d4f",
   "metadata": {},
   "source": [
    "ii. On utilise la condition d'appartenance à la droite par le système cartésien et on y ajoute l'équation correspondant à la condition de perpendicularité. Cela donne:\n",
    "\n",
    "$\\left\\lbrace\\begin{array}{lll}\n",
    "x-z = -4\\\\\n",
    "y = 3 \\\\\n",
    "x+z = 1\n",
    "\\end{array}\\right.$\n",
    "\n",
    "Ce qui se résout en $\\left\\lbrace\\begin{array}{lll}\n",
    "x = -\\frac{2}{3}\\\\\n",
    "y = 3 \\\\\n",
    "z = \\frac{5}{3}\n",
    "\\end{array}\\right.$\n",
    "\n",
    "On en déduit que le point de coordonnées $M(-\\frac{2}{3},3,\\frac{5}{3})$ donne une droite $(DM)$ perpendiculaire à $\\mathcal{D}$."
   ]
  },
  {
   "cell_type": "markdown",
   "id": "4ba2ed1c-ce14-4c0f-a74e-fe0d5d058cce",
   "metadata": {},
   "source": [
    "## Exercice 3"
   ]
  },
  {
   "cell_type": "markdown",
   "id": "a1ec3962-4890-4878-9b9d-d90f39728896",
   "metadata": {},
   "source": [
    "**Question a:**"
   ]
  },
  {
   "cell_type": "markdown",
   "id": "26fce40e-3263-4c47-9cb9-dcf79090f6d1",
   "metadata": {},
   "source": [
    "$det(A) = -5$ (développement en ligne sur la ligne du milieu)\n",
    "\n",
    "**Question b:**\n",
    "\n",
    "$A^{-1} = \\frac{1}{7} \\begin{pmatrix} 1 & -2 & 6 \\\\ 0 & 5 & 0 \\\\ 1 & 2 & -1 \\end{pmatrix} $"
   ]
  },
  {
   "cell_type": "code",
   "execution_count": null,
   "id": "44fcced3-2dfe-4ba9-9a78-f48c886374a5",
   "metadata": {},
   "outputs": [],
   "source": []
  },
  {
   "cell_type": "code",
   "execution_count": 6,
   "id": "c9cbe5d6-d068-419a-9291-bb3b784e7c06",
   "metadata": {},
   "outputs": [
    {
     "name": "stdout",
     "output_type": "stream",
     "text": [
      "[[-2.00000000e-01 -4.00000000e-01  1.20000000e+00]\n",
      " [ 2.77555756e-17  1.00000000e+00 -2.77555756e-17]\n",
      " [ 2.00000000e-01  4.00000000e-01 -2.00000000e-01]]\n"
     ]
    }
   ],
   "source": [
    "A = np.array([[1,-2,6],[0,1,0],[1,0,1]])\n",
    "Am1 = np.array([[-1,-2,6],[0,5,0],[1,2,-1]])/5\n",
    "print(np.linalg.inv(A))"
   ]
  },
  {
   "cell_type": "markdown",
   "id": "e13fd4bd-991d-4b46-b02f-6eb9ae410e77",
   "metadata": {},
   "source": [
    "**Question c:**\n",
    "\n",
    "C'est la matrice de l'exercice 2, par conséquent le point d'interception est le point B. D'où: $Y = \\begin{pmatrix} 2 \\\\ 3 \\\\ -1 \\end{pmatrix} $"
   ]
  },
  {
   "cell_type": "markdown",
   "id": "9896573d-5902-416f-99ad-d629370fe7d5",
   "metadata": {},
   "source": [
    "**Bonus**:\n",
    "\n",
    "On écrit le système donné par $AB=BA$, et on résoud. Cela donne:\n",
    "\n",
    "$AB = \\begin{pmatrix} ac +be & ad+bf \\\\ ae & af \\end{pmatrix} = BA = \\begin{pmatrix} ac & bc+ad \\\\ bc+ad & be+af \\end{pmatrix}$"
   ]
  },
  {
   "cell_type": "markdown",
   "id": "aae29284-c716-45ee-934b-2d5899a38d9d",
   "metadata": {},
   "source": [
    "De la coordonnée en (1,1) on déduit que $be = 0 \\implies e = 0$ car $b$ est non nul et de la coordonnée en (1,2) on déduit que $f=c$. D'où la matrice $B = \\begin{pmatrix} c & d \\\\ 0 & c \\end{pmatrix}$"
   ]
  }
 ],
 "metadata": {
  "kernelspec": {
   "display_name": "Python 3 (ipykernel)",
   "language": "python",
   "name": "python3"
  },
  "language_info": {
   "codemirror_mode": {
    "name": "ipython",
    "version": 3
   },
   "file_extension": ".py",
   "mimetype": "text/x-python",
   "name": "python",
   "nbconvert_exporter": "python",
   "pygments_lexer": "ipython3",
   "version": "3.8.8"
  },
  "widgets": {
   "application/vnd.jupyter.widget-state+json": {
    "state": {},
    "version_major": 2,
    "version_minor": 0
   }
  }
 },
 "nbformat": 4,
 "nbformat_minor": 5
}