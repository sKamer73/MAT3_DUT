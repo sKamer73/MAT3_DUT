{
 "cells": [
  {
   "cell_type": "markdown",
   "id": "a7e4b58c",
   "metadata": {},
   "source": [
    "# Correction du TD4"
   ]
  },
  {
   "cell_type": "markdown",
   "id": "bc5b4369",
   "metadata": {},
   "source": [
    "**Exercice 1**. (\\* à \\*\\*\\*) En utilisant les définitions du cours,\n",
    "montrer que :\n",
    "\n",
    "1.  si $X \\sim \\mathcal{B}(p)$ alors $\\mathbb{E}[X] = p$ et\n",
    "    ${\\rm Var}[X]=p(1-p)$\n",
    "\n",
    "2.  si $X \\sim \\mathcal{U}([1,2])$ alors $\\mathbb{E}[X] = \\dfrac{3}{2}$\n",
    "    et ${\\rm Var}[X] = \\dfrac{1}{12}$\n",
    "\n",
    "3.  si $X \\sim \\mathcal{E}(\\lambda)$ alors\n",
    "    $\\mathbb{E}[X] = \\dfrac{1}{\\lambda}$ et\n",
    "    ${\\rm Var}(X) = \\dfrac{1}{\\lambda^2}$.  \n",
    "      \n",
    "    Ce dernier cas est plus difficile.  \n",
    "    Indication: Utiliser une intégration par parties.  "
   ]
  },
  {
   "cell_type": "markdown",
   "id": "adbac242",
   "metadata": {},
   "source": [
    "**Correction:** la correction et disponible dans la feuille de cours supplémentaire présentant les calculs d'espérance et de variance des lois usuels."
   ]
  },
  {
   "cell_type": "markdown",
   "id": "af15e880",
   "metadata": {},
   "source": [
    "**Exercice 2**. (\\*\\*) Soit $X$ une variable aléatoire. Calculer la\n",
    "fonction de répartition de $X$ lorsque :\n",
    "\n",
    "1.  $X \\sim \\mathcal{U}([a,b])$\n",
    "\n",
    "2.  $X\\sim \\mathcal{E}(\\lambda)$  "
   ]
  },
  {
   "cell_type": "markdown",
   "id": "896e44c2",
   "metadata": {},
   "source": [
    "**Correction:**\n",
    "\n",
    "1. $F_X(x) = \\int_a^x \\frac{dt}{b-a} =  \\frac{x-a}{b-a}$\n",
    "2. $F_X(x) = \\int_0^x \\lambda e^{-\\lambda t}dt = [-e^{-\\lambda t}]_0^x = 1-e^{-\\lambda x}$"
   ]
  },
  {
   "cell_type": "markdown",
   "id": "6fb228d5",
   "metadata": {},
   "source": [
    "**Exercice 3**. (\\*) Madame Michel et Monsieur Boulanger vont chaque\n",
    "semaine au marché hebdomadaire. Madame Michel arrive à une heure\n",
    "aléatoire entre 8h et 12h et elle reste 30 minutes ; on suppose que son\n",
    "heure d’arrivée suit une loi uniforme. Monsieur Boulanger arrive à 10h\n",
    "pile et reste également 30 minutes. Quelle est la probabilité pour\n",
    "qu’ils se trouvent ensemble au marché à un certain moment ?"
   ]
  },
  {
   "cell_type": "markdown",
   "id": "d5d303dd",
   "metadata": {},
   "source": [
    "$M$ la v.a. de l'arrivée de Mme Michel. On cherche $P(9.5<M<10.5)$. On a alors:\n",
    "$P(9.5<M<10.5)=\\int_{9.5}^{10.5} \\frac{dt}{4} = 0.25$"
   ]
  },
  {
   "cell_type": "markdown",
   "id": "90c6af75",
   "metadata": {},
   "source": [
    "**Exercice 4**. (\\*) Max a un rendez-vous avec une amie. Ils vont au\n",
    "restaurant, puis au cinéma. Le temps passé au restaurant est une\n",
    "variable aléatoire suivant une loi exponentielle de paramètre\n",
    "$\\lambda = 1$. (temps compté en heures)\n",
    "\n",
    "1.  Le film commence 1 heure après leur entrée au restaurant. On néglige\n",
    "    les temps d’attente et de déplacement, quelle est alors la\n",
    "    probabilité pour qu’ils ratent le début du film ?\n",
    "\n",
    "2.  Le film dure 1h30. Quelle est la probabilité qu’ils ne voient qu’une\n",
    "    partie du film seulement ?\n",
    "\n",
    "3.  Le temps passé au cinéma est une variable aléatoire de loi\n",
    "    exponentielle de paramètre $\\lambda = \\frac{1}{2}$. Combien de temps\n",
    "    Max peut-il espérer passer avec son amie ce soir ?"
   ]
  },
  {
   "cell_type": "markdown",
   "id": "0bbf2b63",
   "metadata": {},
   "source": [
    "**Correction**:\n",
    "\n",
    "soit T la v.a. du temps passé au restaurant.\n",
    "\n",
    "1. $P(T>1)=\\int_1^{+\\infty} \\lambda e^{-\\lambda t} dt = [-e^{-\\lambda t}]_1^{+\\infty}=e^{-\\lambda}=e^{-1}$\n",
    "2. $P(1<T<2.5)=\\int_1^{2.5} \\lambda e^{-\\lambda t} dt = [-e^{-t}]_1^{2.5}= e^{-1}-e^{-2.5}$\n",
    "3. Soit $C$ la v.a. du temps passé au cinéma Alors: $E(T+C) = E(T)+E(C) = \\frac{1}{1}+\\frac{1}{\\frac{1}{2}}=3$"
   ]
  },
  {
   "cell_type": "markdown",
   "id": "93e757e8",
   "metadata": {},
   "source": [
    "**Exercice 5**. (\\*)\n",
    "\n",
    "1.  Soit $X$ une variable aléatoire suivant une loi normale\n",
    "    $N(m,\\sigma)$. Quelle est la probabilité que $X$ soit supérieure à\n",
    "    $m$ ?\n",
    "\n",
    "2.  Soit $Y$ une variable aléatoire suivant une loi normale $N(0,1)$.\n",
    "    Quelle est la loi de $-Y$ ? la loi de $\\sigma Y+m$ ?\n",
    "\n",
    "3.  En utilisant la table de $\\mathcal{N}(0,1)$, déterminer\n",
    "    $P(0\\leqslant Y\\leqslant 0,8)$, $P(-0,6\\leqslant Y\\leqslant 0)$ et\n",
    "    $P(Y\\leqslant 0,8)$."
   ]
  },
  {
   "cell_type": "markdown",
   "id": "d27865a0",
   "metadata": {},
   "source": [
    "**Correction:**\n",
    "\n",
    "1. Montrer avec le changement de variable et avec le dessin que c'est 1/2. Invoquer la symétrie de la fonction carré.\n",
    "2. -Y suit la loi $N(0,1)$, par symétrie en 0. D'après le cours, $\\sigma Y+m \\sim N(m,\\sigma)$ \n",
    "3. voir table. Précisément: $P(0<=Y<=0.8)=0.7881-0.5=0.2881$,$P(-0,6\\leqslant Y\\leqslant 0)=0.7257-0.5=0.2257$, $P(Y<=0.8)=0.7881$"
   ]
  },
  {
   "cell_type": "markdown",
   "id": "a9788e85",
   "metadata": {},
   "source": [
    "**Exercice 6**. (\\*) La variable aléatoire $X$ suit la loi normale\n",
    "$N(12,4)$. Calculer:\n",
    "$$P(X\\leqslant 15), \\qquad P(X\\geqslant 18), \\qquad P(X\\geqslant 7), \\qquad P(X\\leqslant 9), \\qquad P(8\\leqslant X\\leqslant 17).$$"
   ]
  },
  {
   "cell_type": "markdown",
   "id": "8c68d4fd",
   "metadata": {},
   "source": [
    "Soit $Y=\\frac{X-12}{4}$ la variable centrée réduite correspondante, on cherche les probas:\n",
    "\n",
    "$$P(Y\\leqslant 0.75)=0.7734, \\qquad P(Y\\geqslant 1.5)=1-0.9332=, \\qquad P(Y\\geqslant -1.25) = P(Y \\leqslant 1.25) = 0.8944, \\qquad P(Y \\leqslant -0.75)=0.5 - (0.7734-0.5), \\qquad P(-1\\leqslant Y\\leqslant 1.25).$$"
   ]
  },
  {
   "cell_type": "markdown",
   "id": "d67c5078",
   "metadata": {},
   "source": [
    "**Exercice 7**. (\\*) Une machine produit des rondelles métalliques en\n",
    "grande série. Une rondelle est acceptée si son diamètre extérieur est\n",
    "compris entre 21,9 et 22,1 mm. On suppose que sur l’ensemble de la\n",
    "production le diamètre extérieur des rondelles est une variable\n",
    "aléatoire X suivant la loi normale de moyenne $m$ = 22 mm et\n",
    "d’écart-type $\\sigma$ = 0,05 mm. Quelle est la probabilité qu’une pièce\n",
    "soit refusée ?"
   ]
  },
  {
   "cell_type": "markdown",
   "id": "79370adc",
   "metadata": {},
   "source": [
    "**Correction:**\n",
    "\n",
    "$P(21.9<=X<=22.1)=P(-0.1/0.05<Y<0.1/0.05)=P(-2<Y<2)=2*(0.9772-0.5)=0.95439$\n",
    "La réponse à la question est alors $-> 1-P(21.9<=X<=22.1)=0.0456$"
   ]
  },
  {
   "cell_type": "code",
   "execution_count": 2,
   "id": "67653daf",
   "metadata": {},
   "outputs": [
    {
     "data": {
      "text/plain": [
       "0.045600000000000085"
      ]
     },
     "execution_count": 2,
     "metadata": {},
     "output_type": "execute_result"
    }
   ],
   "source": [
    "1-2*(0.9772-0.5)"
   ]
  },
  {
   "cell_type": "markdown",
   "id": "8064e269",
   "metadata": {},
   "source": [
    "**Exercice 8**. (\\*) Le nombre de clients d’un magasin suit chaque\n",
    "samedi une loi normale $N(365,30)$. Quelle est la probabilité pour qu’il\n",
    "y ait un samedi donné:\n",
    "\n",
    "1.  plus de 400 clients ?\n",
    "\n",
    "2.  moins de 300 clients ?\n",
    "\n",
    "3.  entre 320 et 380 clients ?"
   ]
  },
  {
   "cell_type": "markdown",
   "id": "bc9d7a7f",
   "metadata": {},
   "source": [
    "1.$P(N>400)=P(N_{adim}>1.17)=1-0.9554$\n",
    "\n",
    "2. $P(N<300)=P(N_{adim}<-2.16)=0.5-(0.9846-0.5)=0.0153$\n",
    "\n",
    "3. $P(320<N<380)=P( -1.5 < N_{adim}<0.5 )=0.6915-(1-P(N_{adim}<-1.5))=0.6915-1+(0.9332-0.5)=0.124$"
   ]
  },
  {
   "cell_type": "markdown",
   "id": "3327f400",
   "metadata": {},
   "source": [
    "**Exercice 9**. (\\*\\*) Dans une population, le poids des individus est\n",
    "une variable aléatoire suivant une loi normale de moyenne égale à 60 kg\n",
    "et un écart-type égal à 15 kg. Un ascenseur a une capacité égale à 2200\n",
    "kg. Calculer :\n",
    "\n",
    "1.  La probabilité que 20 individus pèsent ensemble plus de 2200 kg.\n",
    "\n",
    "2.  Le nombre maximum de personnes pouvant rentrer dans l’ascenseur de\n",
    "    sorte que celui-ci ne soit en surcharge qu’avec une probabilité\n",
    "    inférieure à 0,01."
   ]
  },
  {
   "cell_type": "markdown",
   "id": "df61a3b3",
   "metadata": {},
   "source": [
    "$M=\\sum_i M_i$, M suit la loi $N(20*60,\\sqrt{20*\\sigma²})=N(1200,67.08)$\n",
    "1. $P(M>2200)=P(M_{a}>14.9)=0$\n",
    "2. M suit la loi $N(n*60,\\sqrt{n}*15)$, et on veut $P(N>2200)=0.01$ (99ème centile), d'où: $P(N_{a}>\\frac{2200-n*60}{\\sqrt{n}*15})$, le deuxième doit être égal à 2.326, on doit résoudre (en passant au carré):\n",
    "$(2200²-120*2200*n+60²*n²)/(n*15²)=2.326²$ équivalent à $60²*n²-(120*2200+2.326²*15²)*n+2200²=0$"
   ]
  },
  {
   "cell_type": "code",
   "execution_count": 25,
   "id": "458a724b",
   "metadata": {},
   "outputs": [
    {
     "data": {
      "text/plain": [
       "67.0820393249937"
      ]
     },
     "execution_count": 25,
     "metadata": {},
     "output_type": "execute_result"
    }
   ],
   "source": [
    "sqrt(20)*15"
   ]
  },
  {
   "cell_type": "code",
   "execution_count": 21,
   "id": "3c2520f0",
   "metadata": {},
   "outputs": [],
   "source": [
    "delta = (120*2200+15**2*2.326**2)**2-4*(60**2)*2200**2"
   ]
  },
  {
   "cell_type": "code",
   "execution_count": 22,
   "id": "560b4930",
   "metadata": {},
   "outputs": [],
   "source": [
    "x1=(-(120*2200+15**2*2.326**2)+sqrt(delta))/(2*60**2)"
   ]
  },
  {
   "cell_type": "code",
   "execution_count": 23,
   "id": "d2cf7bd5",
   "metadata": {},
   "outputs": [
    {
     "data": {
      "text/plain": [
       "-33.31052372554596"
      ]
     },
     "execution_count": 23,
     "metadata": {},
     "output_type": "execute_result"
    }
   ],
   "source": [
    "x1"
   ]
  },
  {
   "cell_type": "markdown",
   "id": "50be8c55",
   "metadata": {},
   "source": [
    "**Exercice 10**. (\\*\\*) Une machine est conçue pour confectionner des\n",
    "paquets d’un poids de 500g, mais ils n’ont pas exactement tous le même\n",
    "poids. On a constaté que la distribution des poids autour de la valeur\n",
    "moyenne de 500g avait un écart-type de 25g.\n",
    "\n",
    "1.  Par quelle loi est-il raisonnable de modéliser le poids des paquets\n",
    "    ?\n",
    "\n",
    "2.  Sur 1000 paquets, quel est le nombre moyen de paquets pesant entre\n",
    "    480g et 520g ? (*utiliser la table de $\\mathcal{N}(0,1)$*)\n",
    "\n",
    "3.  Combien de paquets pèsent entre 480g et 490g ?\n",
    "\n",
    "4.  Sur 1000 paquets, quel est le nombre moyen de paquets pesant plus de\n",
    "    450g ?\n",
    "\n",
    "5.  Trouver $a$ tel que les 9/10 de cette production aient un poids\n",
    "    compris entre $500-a$ et $500+a$."
   ]
  },
  {
   "cell_type": "markdown",
   "id": "35ae4f1a",
   "metadata": {},
   "source": [
    "**Exercice 11**. (\\*\\*\\*) Une entreprise d’édition a retenu la technique\n",
    "du placard publicitaire vantant quelques articles sans en donner le\n",
    "prix, invitant le lecture à recevoir à domicile gratuitement et san\n",
    "engagement de sa part des documents le renseignant de façon détaillée.\n",
    "L’expérience montre que le client qui se manifeste a une chance sur cinq\n",
    "de passer commande. En utilisant une approximation appropriée, calculer\n",
    "la probabilité d’observer lorsque l’on envoie 500 articles de\n",
    "renseignement :\n",
    "\n",
    "1.  exactement 110 commandes\n",
    "\n",
    "2.  plus de 110 commandes"
   ]
  },
  {
   "cell_type": "markdown",
   "id": "5a403fd5",
   "metadata": {},
   "source": [
    "Manque la donnée: quelle proba que le client se manifeste"
   ]
  },
  {
   "cell_type": "markdown",
   "id": "86a633a0",
   "metadata": {},
   "source": [
    "**Exercice 12**. (\\*\\*\\*) La demande de fabrication d’une pièce X à une\n",
    "entreprise suit une loi normale. Elle a une probabilité 0,1 d’être\n",
    "inférieure à 15.000, et une probabilité 0,1 d’être supérieure à 25.000.\n",
    "\n",
    "1.  Déterminer les paramètres de la loi normale.\n",
    "\n",
    "2.  La marge sur une pièce est de 10 euros, les charges fixes mensuelles\n",
    "    de l’entreprise sont de 175.000 euros. Déterminer la loi de\n",
    "    probabilité suivie par le résultat mensuel de l’entreprise.\n",
    "\n",
    "3.  En déduire la probabilité que le seuil de rentabilité mensuel soit\n",
    "    atteint.\n",
    "\n",
    "4.  Quelle est la probabilité que le seuil de rentabilité trimestriel\n",
    "    soit atteint ?"
   ]
  },
  {
   "cell_type": "markdown",
   "id": "f9b5a6e0",
   "metadata": {},
   "source": [
    "P(N_a<x)=0.1 -> x1 = -1.282=(15000-m)/s, 1.282 = (25000-m)/s -> m = 20000, s"
   ]
  },
  {
   "cell_type": "code",
   "execution_count": null,
   "id": "ef1f614f",
   "metadata": {},
   "outputs": [],
   "source": []
  }
 ],
 "metadata": {
  "kernelspec": {
   "display_name": "Python 3 (ipykernel)",
   "language": "python",
   "name": "python3"
  },
  "language_info": {
   "codemirror_mode": {
    "name": "ipython",
    "version": 3
   },
   "file_extension": ".py",
   "mimetype": "text/x-python",
   "name": "python",
   "nbconvert_exporter": "python",
   "pygments_lexer": "ipython3",
   "version": "3.8.8"
  }
 },
 "nbformat": 4,
 "nbformat_minor": 5
}